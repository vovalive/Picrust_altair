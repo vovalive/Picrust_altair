{
 "cells": [
  {
   "cell_type": "code",
   "execution_count": 68,
   "metadata": {},
   "outputs": [],
   "source": [
    "import pandas as pd\n",
    "\n",
    "import altair as alt\n",
    "from matplotlib import pyplot as plt\n",
    "from skbio.stats.ordination import pcoa\n",
    "\n",
    "alt.data_transformers.disable_max_rows()\n",
    "\n",
    "%matplotlib inline"
   ]
  },
  {
   "cell_type": "code",
   "execution_count": 69,
   "metadata": {},
   "outputs": [
    {
     "data": {
      "text/html": [
       "<div>\n",
       "<style scoped>\n",
       "    .dataframe tbody tr th:only-of-type {\n",
       "        vertical-align: middle;\n",
       "    }\n",
       "\n",
       "    .dataframe tbody tr th {\n",
       "        vertical-align: top;\n",
       "    }\n",
       "\n",
       "    .dataframe thead th {\n",
       "        text-align: right;\n",
       "    }\n",
       "</style>\n",
       "<table border=\"1\" class=\"dataframe\">\n",
       "  <thead>\n",
       "    <tr style=\"text-align: right;\">\n",
       "      <th></th>\n",
       "      <th>case_20211130114604_1</th>\n",
       "      <th>case_20211130114604_2</th>\n",
       "      <th>case_20211130114604_3</th>\n",
       "      <th>case_20211130114604_4</th>\n",
       "      <th>case_20211130114604_5</th>\n",
       "      <th>case_20211130114604_7</th>\n",
       "      <th>case_20211130114604_8</th>\n",
       "      <th>case_20211130114604_9</th>\n",
       "    </tr>\n",
       "    <tr>\n",
       "      <th>function</th>\n",
       "      <th></th>\n",
       "      <th></th>\n",
       "      <th></th>\n",
       "      <th></th>\n",
       "      <th></th>\n",
       "      <th></th>\n",
       "      <th></th>\n",
       "      <th></th>\n",
       "    </tr>\n",
       "  </thead>\n",
       "  <tbody>\n",
       "    <tr>\n",
       "      <th>EC:1.1.1.1</th>\n",
       "      <td>1.0</td>\n",
       "      <td>12.0</td>\n",
       "      <td>4.99</td>\n",
       "      <td>3.0</td>\n",
       "      <td>10.0</td>\n",
       "      <td>4.0</td>\n",
       "      <td>30.0</td>\n",
       "      <td>19.0</td>\n",
       "    </tr>\n",
       "    <tr>\n",
       "      <th>EC:1.1.1.100</th>\n",
       "      <td>3.0</td>\n",
       "      <td>12.0</td>\n",
       "      <td>4.33</td>\n",
       "      <td>4.0</td>\n",
       "      <td>17.0</td>\n",
       "      <td>9.0</td>\n",
       "      <td>16.0</td>\n",
       "      <td>7.0</td>\n",
       "    </tr>\n",
       "    <tr>\n",
       "      <th>EC:1.1.1.103</th>\n",
       "      <td>1.0</td>\n",
       "      <td>0.0</td>\n",
       "      <td>0.00</td>\n",
       "      <td>0.5</td>\n",
       "      <td>0.0</td>\n",
       "      <td>1.0</td>\n",
       "      <td>0.0</td>\n",
       "      <td>4.0</td>\n",
       "    </tr>\n",
       "    <tr>\n",
       "      <th>EC:1.1.1.108</th>\n",
       "      <td>0.0</td>\n",
       "      <td>0.0</td>\n",
       "      <td>0.00</td>\n",
       "      <td>0.0</td>\n",
       "      <td>1.0</td>\n",
       "      <td>0.0</td>\n",
       "      <td>0.0</td>\n",
       "      <td>0.0</td>\n",
       "    </tr>\n",
       "    <tr>\n",
       "      <th>EC:1.1.1.125</th>\n",
       "      <td>0.0</td>\n",
       "      <td>0.0</td>\n",
       "      <td>0.00</td>\n",
       "      <td>0.5</td>\n",
       "      <td>0.0</td>\n",
       "      <td>0.0</td>\n",
       "      <td>0.0</td>\n",
       "      <td>4.0</td>\n",
       "    </tr>\n",
       "  </tbody>\n",
       "</table>\n",
       "</div>"
      ],
      "text/plain": [
       "              case_20211130114604_1  case_20211130114604_2  \\\n",
       "function                                                     \n",
       "EC:1.1.1.1                      1.0                   12.0   \n",
       "EC:1.1.1.100                    3.0                   12.0   \n",
       "EC:1.1.1.103                    1.0                    0.0   \n",
       "EC:1.1.1.108                    0.0                    0.0   \n",
       "EC:1.1.1.125                    0.0                    0.0   \n",
       "\n",
       "              case_20211130114604_3  case_20211130114604_4  \\\n",
       "function                                                     \n",
       "EC:1.1.1.1                     4.99                    3.0   \n",
       "EC:1.1.1.100                   4.33                    4.0   \n",
       "EC:1.1.1.103                   0.00                    0.5   \n",
       "EC:1.1.1.108                   0.00                    0.0   \n",
       "EC:1.1.1.125                   0.00                    0.5   \n",
       "\n",
       "              case_20211130114604_5  case_20211130114604_7  \\\n",
       "function                                                     \n",
       "EC:1.1.1.1                     10.0                    4.0   \n",
       "EC:1.1.1.100                   17.0                    9.0   \n",
       "EC:1.1.1.103                    0.0                    1.0   \n",
       "EC:1.1.1.108                    1.0                    0.0   \n",
       "EC:1.1.1.125                    0.0                    0.0   \n",
       "\n",
       "              case_20211130114604_8  case_20211130114604_9  \n",
       "function                                                    \n",
       "EC:1.1.1.1                     30.0                   19.0  \n",
       "EC:1.1.1.100                   16.0                    7.0  \n",
       "EC:1.1.1.103                    0.0                    4.0  \n",
       "EC:1.1.1.108                    0.0                    0.0  \n",
       "EC:1.1.1.125                    0.0                    4.0  "
      ]
     },
     "execution_count": 69,
     "metadata": {},
     "output_type": "execute_result"
    }
   ],
   "source": [
    "metapredict = pd.read_csv('pred_metagenome_unstrat.tsv.gz',sep='\\t',index_col=0)\n",
    "metapredict.head()"
   ]
  },
  {
   "cell_type": "code",
   "execution_count": 70,
   "metadata": {},
   "outputs": [],
   "source": [
    "# filter values, optional\n",
    "metapredict = metapredict[metapredict.mean(axis=1) > metapredict.mean(axis=1).quantile(0.99)]"
   ]
  },
  {
   "cell_type": "code",
   "execution_count": 71,
   "metadata": {},
   "outputs": [],
   "source": [
    "melt = metapredict.melt(ignore_index = False)\n",
    "melt['fn']=melt.index"
   ]
  },
  {
   "cell_type": "code",
   "execution_count": 72,
   "metadata": {},
   "outputs": [],
   "source": [
    "heatmap = alt.Chart(melt).mark_rect().encode(\n",
    "    x='variable:O',\n",
    "    y=alt.Y('fn:O',sort='-y'),\n",
    "    color='value:Q',\n",
    "    tooltip=['fn','value']\n",
    ")"
   ]
  },
  {
   "cell_type": "code",
   "execution_count": 73,
   "metadata": {},
   "outputs": [],
   "source": [
    "boxplot = alt.Chart(melt).mark_boxplot(extent='min-max').encode(\n",
    "    x='variable:O',\n",
    "    y='value',\n",
    "    tooltip=['fn','value']\n",
    ")"
   ]
  },
  {
   "cell_type": "code",
   "execution_count": 77,
   "metadata": {},
   "outputs": [
    {
     "data": {
      "text/html": [
       "\n",
       "<div id=\"altair-viz-8563c32de21c45eeadd118711081eed9\"></div>\n",
       "<script type=\"text/javascript\">\n",
       "  (function(spec, embedOpt){\n",
       "    const outputDiv = document.getElementById(\"altair-viz-8563c32de21c45eeadd118711081eed9\");\n",
       "    const paths = {\n",
       "      \"vega\": \"https://cdn.jsdelivr.net/npm//vega@5?noext\",\n",
       "      \"vega-lib\": \"https://cdn.jsdelivr.net/npm//vega-lib?noext\",\n",
       "      \"vega-lite\": \"https://cdn.jsdelivr.net/npm//vega-lite@4.0.2?noext\",\n",
       "      \"vega-embed\": \"https://cdn.jsdelivr.net/npm//vega-embed@6?noext\",\n",
       "    };\n",
       "\n",
       "    function loadScript(lib) {\n",
       "      return new Promise(function(resolve, reject) {\n",
       "        var s = document.createElement('script');\n",
       "        s.src = paths[lib];\n",
       "        s.async = true;\n",
       "        s.onload = () => resolve(paths[lib]);\n",
       "        s.onerror = () => reject(`Error loading script: ${paths[lib]}`);\n",
       "        document.getElementsByTagName(\"head\")[0].appendChild(s);\n",
       "      });\n",
       "    }\n",
       "\n",
       "    function showError(err) {\n",
       "      outputDiv.innerHTML = `<div class=\"error\" style=\"color:red;\">${err}</div>`;\n",
       "      throw err;\n",
       "    }\n",
       "\n",
       "    function displayChart(vegaEmbed) {\n",
       "      vegaEmbed(outputDiv, spec, embedOpt)\n",
       "        .catch(err => showError(`Javascript Error: ${err.message}<br>This usually means there's a typo in your chart specification. See the javascript console for the full traceback.`));\n",
       "    }\n",
       "\n",
       "    if(typeof define === \"function\" && define.amd) {\n",
       "      requirejs.config({paths});\n",
       "      require([\"vega-embed\"], displayChart, err => showError(`Error loading script: ${err.message}`));\n",
       "    } else if (typeof vegaEmbed === \"function\") {\n",
       "      displayChart(vegaEmbed);\n",
       "    } else {\n",
       "      loadScript(\"vega\")\n",
       "        .then(() => loadScript(\"vega-lite\"))\n",
       "        .then(() => loadScript(\"vega-embed\"))\n",
       "        .catch(showError)\n",
       "        .then(() => displayChart(vegaEmbed));\n",
       "    }\n",
       "  })({\"config\": {\"view\": {\"continuousWidth\": 400, \"continuousHeight\": 300}}, \"hconcat\": [{\"mark\": \"rect\", \"encoding\": {\"color\": {\"type\": \"quantitative\", \"field\": \"value\"}, \"tooltip\": [{\"type\": \"nominal\", \"field\": \"fn\"}, {\"type\": \"quantitative\", \"field\": \"value\"}], \"x\": {\"type\": \"ordinal\", \"field\": \"variable\"}, \"y\": {\"type\": \"ordinal\", \"field\": \"fn\", \"sort\": \"-y\"}}}, {\"mark\": {\"type\": \"boxplot\", \"extent\": \"min-max\"}, \"encoding\": {\"tooltip\": [{\"type\": \"nominal\", \"field\": \"fn\"}, {\"type\": \"quantitative\", \"field\": \"value\"}], \"x\": {\"type\": \"ordinal\", \"field\": \"variable\"}, \"y\": {\"type\": \"quantitative\", \"field\": \"value\"}}}], \"data\": {\"name\": \"data-6a745e260b825877d6320cffbf6e8e1c\"}, \"$schema\": \"https://vega.github.io/schema/vega-lite/v4.0.2.json\", \"datasets\": {\"data-6a745e260b825877d6320cffbf6e8e1c\": [{\"variable\": \"case_20211130114604_1\", \"value\": 1.0, \"fn\": \"EC:1.1.1.1\"}, {\"variable\": \"case_20211130114604_1\", \"value\": 2.0, \"fn\": \"EC:1.6.5.3\"}, {\"variable\": \"case_20211130114604_1\", \"value\": 2.0, \"fn\": \"EC:2.1.1.72\"}, {\"variable\": \"case_20211130114604_1\", \"value\": 4.0, \"fn\": \"EC:2.2.1.6\"}, {\"variable\": \"case_20211130114604_1\", \"value\": 2.0, \"fn\": \"EC:2.7.1.69\"}, {\"variable\": \"case_20211130114604_1\", \"value\": 9.0, \"fn\": \"EC:2.7.13.3\"}, {\"variable\": \"case_20211130114604_1\", \"value\": 4.0, \"fn\": \"EC:2.7.7.6\"}, {\"variable\": \"case_20211130114604_1\", \"value\": 10.0, \"fn\": \"EC:2.7.7.7\"}, {\"variable\": \"case_20211130114604_1\", \"value\": 5.0, \"fn\": \"EC:3.4.16.4\"}, {\"variable\": \"case_20211130114604_1\", \"value\": 4.0, \"fn\": \"EC:3.6.3.14\"}, {\"variable\": \"case_20211130114604_1\", \"value\": 10.0, \"fn\": \"EC:3.6.4.12\"}, {\"variable\": \"case_20211130114604_1\", \"value\": 1.0, \"fn\": \"EC:3.6.4.13\"}, {\"variable\": \"case_20211130114604_1\", \"value\": 3.0, \"fn\": \"EC:5.2.1.8\"}, {\"variable\": \"case_20211130114604_1\", \"value\": 2.0, \"fn\": \"EC:6.4.1.2\"}, {\"variable\": \"case_20211130114604_2\", \"value\": 12.0, \"fn\": \"EC:1.1.1.1\"}, {\"variable\": \"case_20211130114604_2\", \"value\": 6.0, \"fn\": \"EC:1.6.5.3\"}, {\"variable\": \"case_20211130114604_2\", \"value\": 12.0, \"fn\": \"EC:2.1.1.72\"}, {\"variable\": \"case_20211130114604_2\", \"value\": 24.0, \"fn\": \"EC:2.2.1.6\"}, {\"variable\": \"case_20211130114604_2\", \"value\": 18.0, \"fn\": \"EC:2.7.1.69\"}, {\"variable\": \"case_20211130114604_2\", \"value\": 60.0, \"fn\": \"EC:2.7.13.3\"}, {\"variable\": \"case_20211130114604_2\", \"value\": 24.0, \"fn\": \"EC:2.7.7.6\"}, {\"variable\": \"case_20211130114604_2\", \"value\": 54.0, \"fn\": \"EC:2.7.7.7\"}, {\"variable\": \"case_20211130114604_2\", \"value\": 18.0, \"fn\": \"EC:3.4.16.4\"}, {\"variable\": \"case_20211130114604_2\", \"value\": 12.0, \"fn\": \"EC:3.6.3.14\"}, {\"variable\": \"case_20211130114604_2\", \"value\": 60.0, \"fn\": \"EC:3.6.4.12\"}, {\"variable\": \"case_20211130114604_2\", \"value\": 12.0, \"fn\": \"EC:3.6.4.13\"}, {\"variable\": \"case_20211130114604_2\", \"value\": 12.0, \"fn\": \"EC:5.2.1.8\"}, {\"variable\": \"case_20211130114604_2\", \"value\": 24.0, \"fn\": \"EC:6.4.1.2\"}, {\"variable\": \"case_20211130114604_3\", \"value\": 4.99, \"fn\": \"EC:1.1.1.1\"}, {\"variable\": \"case_20211130114604_3\", \"value\": 0.0, \"fn\": \"EC:1.6.5.3\"}, {\"variable\": \"case_20211130114604_3\", \"value\": 4.99, \"fn\": \"EC:2.1.1.72\"}, {\"variable\": \"case_20211130114604_3\", \"value\": 6.66, \"fn\": \"EC:2.2.1.6\"}, {\"variable\": \"case_20211130114604_3\", \"value\": 20.0, \"fn\": \"EC:2.7.1.69\"}, {\"variable\": \"case_20211130114604_3\", \"value\": 10.99, \"fn\": \"EC:2.7.13.3\"}, {\"variable\": \"case_20211130114604_3\", \"value\": 9.32, \"fn\": \"EC:2.7.7.6\"}, {\"variable\": \"case_20211130114604_3\", \"value\": 20.64, \"fn\": \"EC:2.7.7.7\"}, {\"variable\": \"case_20211130114604_3\", \"value\": 4.33, \"fn\": \"EC:3.4.16.4\"}, {\"variable\": \"case_20211130114604_3\", \"value\": 6.66, \"fn\": \"EC:3.6.3.14\"}, {\"variable\": \"case_20211130114604_3\", \"value\": 19.3, \"fn\": \"EC:3.6.4.12\"}, {\"variable\": \"case_20211130114604_3\", \"value\": 4.33, \"fn\": \"EC:3.6.4.13\"}, {\"variable\": \"case_20211130114604_3\", \"value\": 6.99, \"fn\": \"EC:5.2.1.8\"}, {\"variable\": \"case_20211130114604_3\", \"value\": 6.33, \"fn\": \"EC:6.4.1.2\"}, {\"variable\": \"case_20211130114604_4\", \"value\": 3.0, \"fn\": \"EC:1.1.1.1\"}, {\"variable\": \"case_20211130114604_4\", \"value\": 8.5, \"fn\": \"EC:1.6.5.3\"}, {\"variable\": \"case_20211130114604_4\", \"value\": 10.0, \"fn\": \"EC:2.1.1.72\"}, {\"variable\": \"case_20211130114604_4\", \"value\": 4.0, \"fn\": \"EC:2.2.1.6\"}, {\"variable\": \"case_20211130114604_4\", \"value\": 6.0, \"fn\": \"EC:2.7.1.69\"}, {\"variable\": \"case_20211130114604_4\", \"value\": 10.5, \"fn\": \"EC:2.7.13.3\"}, {\"variable\": \"case_20211130114604_4\", \"value\": 8.0, \"fn\": \"EC:2.7.7.6\"}, {\"variable\": \"case_20211130114604_4\", \"value\": 18.0, \"fn\": \"EC:2.7.7.7\"}, {\"variable\": \"case_20211130114604_4\", \"value\": 7.0, \"fn\": \"EC:3.4.16.4\"}, {\"variable\": \"case_20211130114604_4\", \"value\": 4.0, \"fn\": \"EC:3.6.3.14\"}, {\"variable\": \"case_20211130114604_4\", \"value\": 19.0, \"fn\": \"EC:3.6.4.12\"}, {\"variable\": \"case_20211130114604_4\", \"value\": 4.0, \"fn\": \"EC:3.6.4.13\"}, {\"variable\": \"case_20211130114604_4\", \"value\": 7.0, \"fn\": \"EC:5.2.1.8\"}, {\"variable\": \"case_20211130114604_4\", \"value\": 5.0, \"fn\": \"EC:6.4.1.2\"}, {\"variable\": \"case_20211130114604_5\", \"value\": 10.0, \"fn\": \"EC:1.1.1.1\"}, {\"variable\": \"case_20211130114604_5\", \"value\": 41.0, \"fn\": \"EC:1.6.5.3\"}, {\"variable\": \"case_20211130114604_5\", \"value\": 9.0, \"fn\": \"EC:2.1.1.72\"}, {\"variable\": \"case_20211130114604_5\", \"value\": 12.0, \"fn\": \"EC:2.2.1.6\"}, {\"variable\": \"case_20211130114604_5\", \"value\": 10.0, \"fn\": \"EC:2.7.1.69\"}, {\"variable\": \"case_20211130114604_5\", \"value\": 38.0, \"fn\": \"EC:2.7.13.3\"}, {\"variable\": \"case_20211130114604_5\", \"value\": 20.0, \"fn\": \"EC:2.7.7.6\"}, {\"variable\": \"case_20211130114604_5\", \"value\": 45.0, \"fn\": \"EC:2.7.7.7\"}, {\"variable\": \"case_20211130114604_5\", \"value\": 9.0, \"fn\": \"EC:3.4.16.4\"}, {\"variable\": \"case_20211130114604_5\", \"value\": 14.0, \"fn\": \"EC:3.6.3.14\"}, {\"variable\": \"case_20211130114604_5\", \"value\": 47.0, \"fn\": \"EC:3.6.4.12\"}, {\"variable\": \"case_20211130114604_5\", \"value\": 16.0, \"fn\": \"EC:3.6.4.13\"}, {\"variable\": \"case_20211130114604_5\", \"value\": 21.0, \"fn\": \"EC:5.2.1.8\"}, {\"variable\": \"case_20211130114604_5\", \"value\": 14.0, \"fn\": \"EC:6.4.1.2\"}, {\"variable\": \"case_20211130114604_7\", \"value\": 4.0, \"fn\": \"EC:1.1.1.1\"}, {\"variable\": \"case_20211130114604_7\", \"value\": 6.0, \"fn\": \"EC:1.6.5.3\"}, {\"variable\": \"case_20211130114604_7\", \"value\": 4.0, \"fn\": \"EC:2.1.1.72\"}, {\"variable\": \"case_20211130114604_7\", \"value\": 9.0, \"fn\": \"EC:2.2.1.6\"}, {\"variable\": \"case_20211130114604_7\", \"value\": 11.0, \"fn\": \"EC:2.7.1.69\"}, {\"variable\": \"case_20211130114604_7\", \"value\": 20.0, \"fn\": \"EC:2.7.13.3\"}, {\"variable\": \"case_20211130114604_7\", \"value\": 8.0, \"fn\": \"EC:2.7.7.6\"}, {\"variable\": \"case_20211130114604_7\", \"value\": 20.0, \"fn\": \"EC:2.7.7.7\"}, {\"variable\": \"case_20211130114604_7\", \"value\": 14.0, \"fn\": \"EC:3.4.16.4\"}, {\"variable\": \"case_20211130114604_7\", \"value\": 10.0, \"fn\": \"EC:3.6.3.14\"}, {\"variable\": \"case_20211130114604_7\", \"value\": 20.0, \"fn\": \"EC:3.6.4.12\"}, {\"variable\": \"case_20211130114604_7\", \"value\": 3.0, \"fn\": \"EC:3.6.4.13\"}, {\"variable\": \"case_20211130114604_7\", \"value\": 6.0, \"fn\": \"EC:5.2.1.8\"}, {\"variable\": \"case_20211130114604_7\", \"value\": 4.0, \"fn\": \"EC:6.4.1.2\"}, {\"variable\": \"case_20211130114604_8\", \"value\": 30.0, \"fn\": \"EC:1.1.1.1\"}, {\"variable\": \"case_20211130114604_8\", \"value\": 17.0, \"fn\": \"EC:1.6.5.3\"}, {\"variable\": \"case_20211130114604_8\", \"value\": 20.0, \"fn\": \"EC:2.1.1.72\"}, {\"variable\": \"case_20211130114604_8\", \"value\": 23.0, \"fn\": \"EC:2.2.1.6\"}, {\"variable\": \"case_20211130114604_8\", \"value\": 28.0, \"fn\": \"EC:2.7.1.69\"}, {\"variable\": \"case_20211130114604_8\", \"value\": 80.0, \"fn\": \"EC:2.7.13.3\"}, {\"variable\": \"case_20211130114604_8\", \"value\": 32.0, \"fn\": \"EC:2.7.7.6\"}, {\"variable\": \"case_20211130114604_8\", \"value\": 72.0, \"fn\": \"EC:2.7.7.7\"}, {\"variable\": \"case_20211130114604_8\", \"value\": 16.0, \"fn\": \"EC:3.4.16.4\"}, {\"variable\": \"case_20211130114604_8\", \"value\": 16.0, \"fn\": \"EC:3.6.3.14\"}, {\"variable\": \"case_20211130114604_8\", \"value\": 76.0, \"fn\": \"EC:3.6.4.12\"}, {\"variable\": \"case_20211130114604_8\", \"value\": 16.0, \"fn\": \"EC:3.6.4.13\"}, {\"variable\": \"case_20211130114604_8\", \"value\": 23.0, \"fn\": \"EC:5.2.1.8\"}, {\"variable\": \"case_20211130114604_8\", \"value\": 31.0, \"fn\": \"EC:6.4.1.2\"}, {\"variable\": \"case_20211130114604_9\", \"value\": 19.0, \"fn\": \"EC:1.1.1.1\"}, {\"variable\": \"case_20211130114604_9\", \"value\": 40.0, \"fn\": \"EC:1.6.5.3\"}, {\"variable\": \"case_20211130114604_9\", \"value\": 24.0, \"fn\": \"EC:2.1.1.72\"}, {\"variable\": \"case_20211130114604_9\", \"value\": 24.0, \"fn\": \"EC:2.2.1.6\"}, {\"variable\": \"case_20211130114604_9\", \"value\": 50.0, \"fn\": \"EC:2.7.1.69\"}, {\"variable\": \"case_20211130114604_9\", \"value\": 45.0, \"fn\": \"EC:2.7.13.3\"}, {\"variable\": \"case_20211130114604_9\", \"value\": 21.0, \"fn\": \"EC:2.7.7.6\"}, {\"variable\": \"case_20211130114604_9\", \"value\": 50.0, \"fn\": \"EC:2.7.7.7\"}, {\"variable\": \"case_20211130114604_9\", \"value\": 19.0, \"fn\": \"EC:3.4.16.4\"}, {\"variable\": \"case_20211130114604_9\", \"value\": 15.0, \"fn\": \"EC:3.6.3.14\"}, {\"variable\": \"case_20211130114604_9\", \"value\": 45.0, \"fn\": \"EC:3.6.4.12\"}, {\"variable\": \"case_20211130114604_9\", \"value\": 27.0, \"fn\": \"EC:3.6.4.13\"}, {\"variable\": \"case_20211130114604_9\", \"value\": 37.0, \"fn\": \"EC:5.2.1.8\"}, {\"variable\": \"case_20211130114604_9\", \"value\": 18.0, \"fn\": \"EC:6.4.1.2\"}]}}, {\"mode\": \"vega-lite\"});\n",
       "</script>"
      ],
      "text/plain": [
       "alt.HConcatChart(...)"
      ]
     },
     "execution_count": 77,
     "metadata": {},
     "output_type": "execute_result"
    }
   ],
   "source": [
    "chart = heatmap | boxplot\n",
    "chart"
   ]
  },
  {
   "cell_type": "code",
   "execution_count": 76,
   "metadata": {},
   "outputs": [],
   "source": [
    "chart.save('picrust.html')"
   ]
  },
  {
   "cell_type": "code",
   "execution_count": null,
   "metadata": {},
   "outputs": [],
   "source": []
  }
 ],
 "metadata": {
  "kernelspec": {
   "display_name": "Python 3",
   "language": "python",
   "name": "python3"
  },
  "language_info": {
   "codemirror_mode": {
    "name": "ipython",
    "version": 3
   },
   "file_extension": ".py",
   "mimetype": "text/x-python",
   "name": "python",
   "nbconvert_exporter": "python",
   "pygments_lexer": "ipython3",
   "version": "3.7.4"
  }
 },
 "nbformat": 4,
 "nbformat_minor": 4
}
